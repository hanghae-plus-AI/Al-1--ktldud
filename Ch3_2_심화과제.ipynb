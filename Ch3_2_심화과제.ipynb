{
  "nbformat": 4,
  "nbformat_minor": 0,
  "metadata": {
    "colab": {
      "provenance": []
    },
    "kernelspec": {
      "name": "python3",
      "display_name": "Python 3"
    },
    "language_info": {
      "name": "python"
    }
  },
  "cells": [
    {
      "cell_type": "markdown",
      "source": [
        "# 실습: GPT로 prompting 기법들 체험하기\n",
        "\n",
        "이번 실습에서는 GPT api를 통해 이론 시간에 배운 prompting 기법들을 다룹니다. 먼저 필요한 library들을 설치합니다."
      ],
      "metadata": {
        "id": "wUk08smFpXCJ"
      }
    },
    {
      "cell_type": "code",
      "source": [
        "pip install --upgrade openai\n"
      ],
      "metadata": {
        "colab": {
          "base_uri": "https://localhost:8080/"
        },
        "id": "cPdlysNDY6V5",
        "outputId": "a1206af4-3c56-47b7-d566-53d89580e801"
      },
      "execution_count": null,
      "outputs": [
        {
          "output_type": "stream",
          "name": "stdout",
          "text": [
            "Requirement already satisfied: openai in /usr/local/lib/python3.10/dist-packages (1.52.0)\n",
            "Requirement already satisfied: anyio<5,>=3.5.0 in /usr/local/lib/python3.10/dist-packages (from openai) (3.7.1)\n",
            "Requirement already satisfied: distro<2,>=1.7.0 in /usr/lib/python3/dist-packages (from openai) (1.7.0)\n",
            "Requirement already satisfied: httpx<1,>=0.23.0 in /usr/local/lib/python3.10/dist-packages (from openai) (0.27.2)\n",
            "Requirement already satisfied: jiter<1,>=0.4.0 in /usr/local/lib/python3.10/dist-packages (from openai) (0.6.1)\n",
            "Requirement already satisfied: pydantic<3,>=1.9.0 in /usr/local/lib/python3.10/dist-packages (from openai) (2.9.2)\n",
            "Requirement already satisfied: sniffio in /usr/local/lib/python3.10/dist-packages (from openai) (1.3.1)\n",
            "Requirement already satisfied: tqdm>4 in /usr/local/lib/python3.10/dist-packages (from openai) (4.66.5)\n",
            "Requirement already satisfied: typing-extensions<5,>=4.11 in /usr/local/lib/python3.10/dist-packages (from openai) (4.12.2)\n",
            "Requirement already satisfied: idna>=2.8 in /usr/local/lib/python3.10/dist-packages (from anyio<5,>=3.5.0->openai) (3.10)\n",
            "Requirement already satisfied: exceptiongroup in /usr/local/lib/python3.10/dist-packages (from anyio<5,>=3.5.0->openai) (1.2.2)\n",
            "Requirement already satisfied: certifi in /usr/local/lib/python3.10/dist-packages (from httpx<1,>=0.23.0->openai) (2024.8.30)\n",
            "Requirement already satisfied: httpcore==1.* in /usr/local/lib/python3.10/dist-packages (from httpx<1,>=0.23.0->openai) (1.0.6)\n",
            "Requirement already satisfied: h11<0.15,>=0.13 in /usr/local/lib/python3.10/dist-packages (from httpcore==1.*->httpx<1,>=0.23.0->openai) (0.14.0)\n",
            "Requirement already satisfied: annotated-types>=0.6.0 in /usr/local/lib/python3.10/dist-packages (from pydantic<3,>=1.9.0->openai) (0.7.0)\n",
            "Requirement already satisfied: pydantic-core==2.23.4 in /usr/local/lib/python3.10/dist-packages (from pydantic<3,>=1.9.0->openai) (2.23.4)\n"
          ]
        }
      ]
    },
    {
      "cell_type": "markdown",
      "source": [],
      "metadata": {
        "id": "VsOpeCddBUJS"
      }
    },
    {
      "cell_type": "code",
      "source": [
        "import openai\n",
        "from openai.types.chat import ChatCompletionMessage\n",
        "import re\n",
        "import os\n",
        "\n",
        "\n",
        "# API 키를 명시적으로 설정\n",
        "openai.api_key = \"OPENAI_API_KEY\"\n",
        "\n"
      ],
      "metadata": {
        "id": "27iUTUlnRXRp"
      },
      "execution_count": null,
      "outputs": []
    },
    {
      "cell_type": "code",
      "source": [
        "open_ai_client = openai.OpenAI(api_key=openai.api_key)\n",
        "MODEL = \"gpt-4\""
      ],
      "metadata": {
        "id": "TJDBoM6jciYG"
      },
      "execution_count": null,
      "outputs": []
    },
    {
      "cell_type": "code",
      "source": [
        "from typing import Dict, Any\n",
        "from openai.types.chat import ChatCompletionMessage\n",
        "\n",
        "def extract_and_format_answer(answer_message: str) -> int:\n",
        "    pattern = r\"(\\d+)번\"\n",
        "    match = re.search(pattern, answer_message)\n",
        "    if match:\n",
        "        return int(match.group(1))\n",
        "    else:\n",
        "        return -1\n",
        "\n",
        "def prediction(paragraph: str, question: str, choices: list):\n",
        "    # 선택지를 문자열로 변환\n",
        "    choices_str = \"\\n\".join([f\"{i + 1}번: {choice}\" for i, choice in enumerate(choices)])\n",
        "\n",
        "    # GPT-4 모델을 사용하여 예측 결과 생성\n",
        "    prompt = (\n",
        "        f\"지문을 읽고, 선택지 중에 정답을 골라줘. 답은 번호만 말해주면 돼.\\n\"\n",
        "        f\"지문: {paragraph}\\n\"\n",
        "        f\"문제: {question}\\n\"\n",
        "        f\"선택지:\\n{choices_str}\\n\"\n",
        "        f\"정확하게 답을 골라줘.\"\n",
        "    )\n",
        "    messages = [\n",
        "        {\"role\": \"system\", \"content\": \"너는 수능이라는 시험을 푸는 학생이야. 국어 문제는 객관식이고, 정확한 정답을 골라서 고득점을 얻어야 해.\"},\n",
        "        {\"role\": \"user\", \"content\": prompt}\n",
        "    ]\n",
        "\n",
        "    completion = open_ai_client.chat.completions.create(model=MODEL, messages=messages)\n",
        "    # 응답 추출 및 포맷팅\n",
        "    return extract_and_format_answer(completion.choices[0].message.content)"
      ],
      "metadata": {
        "id": "8g9L-5H_X3Ui"
      },
      "execution_count": null,
      "outputs": []
    },
    {
      "cell_type": "code",
      "source": [
        "import json\n",
        "\n",
        "with open(\"2023_11_KICE.json\", \"r\") as f:\n",
        "    korean_2024_problems = json.load(f)"
      ],
      "metadata": {
        "id": "hJsPCjOGX73H",
        "collapsed": true
      },
      "execution_count": null,
      "outputs": []
    },
    {
      "cell_type": "code",
      "source": [
        "total_scores = 0\n",
        "for korean_2024_problem in korean_2024_problems:\n",
        "    paragraph = korean_2024_problem[\"paragraph\"]\n",
        "    for problem in korean_2024_problem[\"problems\"]:\n",
        "        question = problem[\"question\"]\n",
        "        choices = problem[\"choices\"]\n",
        "        answer = problem[\"answer\"]\n",
        "        score = problem[\"score\"]\n",
        "\n",
        "        # Pass both problem and paragraph to the prediction function\n",
        "        pred = prediction(paragraph, question, choices)  # Corrected line\n",
        "        if answer == pred:\n",
        "            total_scores += score\n",
        "\n",
        "print(total_scores)"
      ],
      "metadata": {
        "id": "spPhRt3OYCdr",
        "colab": {
          "base_uri": "https://localhost:8080/"
        },
        "outputId": "394ac681-5ea0-45f6-935a-6c1064be5b68"
      },
      "execution_count": null,
      "outputs": [
        {
          "output_type": "stream",
          "name": "stdout",
          "text": [
            "74\n"
          ]
        }
      ]
    }
  ]
}