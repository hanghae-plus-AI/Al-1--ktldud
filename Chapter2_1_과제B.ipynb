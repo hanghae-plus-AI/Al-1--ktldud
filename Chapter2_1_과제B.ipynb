{
  "cells": [
    {
      "cell_type": "markdown",
      "metadata": {
        "id": "ymxatB5WYxlL"
      },
      "source": [
        "# Transformer 실습\n",
        "\n",
        "이번 실습에서는 감정 분석 task에 RNN 대신 Transformer를 구현하여 적용해 볼 것입니다.\n",
        "Library import나 dataloader 생성은 RNN 실습 때와 똑같기 때문에 설명은 넘어가도록 하겠습니다."
      ]
    },
    {
      "cell_type": "code",
      "source": [
        "import os\n",
        "os.environ['CUDA_LAUNCH_BLOCKING'] = '1'\n",
        "os.environ[\"CUDA_VISIBLE_DEVICES\"] = \"0\"\n",
        "os.environ[\"TORCH_USE_CUDA_DSA\"] = '1'"
      ],
      "metadata": {
        "id": "0IgMXzatEhDX"
      },
      "execution_count": 24,
      "outputs": []
    },
    {
      "cell_type": "code",
      "execution_count": 25,
      "metadata": {
        "id": "1X7RM2du1zcr",
        "outputId": "9851c7e5-c5c7-43d9-c43c-fc347cea24a2",
        "colab": {
          "base_uri": "https://localhost:8080/"
        }
      },
      "outputs": [
        {
          "output_type": "stream",
          "name": "stdout",
          "text": [
            "Requirement already satisfied: datasets in /usr/local/lib/python3.10/dist-packages (3.0.1)\n",
            "Requirement already satisfied: filelock in /usr/local/lib/python3.10/dist-packages (from datasets) (3.16.1)\n",
            "Requirement already satisfied: numpy>=1.17 in /usr/local/lib/python3.10/dist-packages (from datasets) (1.26.4)\n",
            "Requirement already satisfied: pyarrow>=15.0.0 in /usr/local/lib/python3.10/dist-packages (from datasets) (17.0.0)\n",
            "Requirement already satisfied: dill<0.3.9,>=0.3.0 in /usr/local/lib/python3.10/dist-packages (from datasets) (0.3.8)\n",
            "Requirement already satisfied: pandas in /usr/local/lib/python3.10/dist-packages (from datasets) (2.1.4)\n",
            "Requirement already satisfied: requests>=2.32.2 in /usr/local/lib/python3.10/dist-packages (from datasets) (2.32.3)\n",
            "Requirement already satisfied: tqdm>=4.66.3 in /usr/local/lib/python3.10/dist-packages (from datasets) (4.66.5)\n",
            "Requirement already satisfied: xxhash in /usr/local/lib/python3.10/dist-packages (from datasets) (3.5.0)\n",
            "Requirement already satisfied: multiprocess in /usr/local/lib/python3.10/dist-packages (from datasets) (0.70.16)\n",
            "Requirement already satisfied: fsspec<=2024.6.1,>=2023.1.0 in /usr/local/lib/python3.10/dist-packages (from fsspec[http]<=2024.6.1,>=2023.1.0->datasets) (2024.6.1)\n",
            "Requirement already satisfied: aiohttp in /usr/local/lib/python3.10/dist-packages (from datasets) (3.10.5)\n",
            "Requirement already satisfied: huggingface-hub>=0.22.0 in /usr/local/lib/python3.10/dist-packages (from datasets) (0.24.7)\n",
            "Requirement already satisfied: packaging in /usr/local/lib/python3.10/dist-packages (from datasets) (24.1)\n",
            "Requirement already satisfied: pyyaml>=5.1 in /usr/local/lib/python3.10/dist-packages (from datasets) (6.0.2)\n",
            "Requirement already satisfied: aiohappyeyeballs>=2.3.0 in /usr/local/lib/python3.10/dist-packages (from aiohttp->datasets) (2.4.0)\n",
            "Requirement already satisfied: aiosignal>=1.1.2 in /usr/local/lib/python3.10/dist-packages (from aiohttp->datasets) (1.3.1)\n",
            "Requirement already satisfied: attrs>=17.3.0 in /usr/local/lib/python3.10/dist-packages (from aiohttp->datasets) (24.2.0)\n",
            "Requirement already satisfied: frozenlist>=1.1.1 in /usr/local/lib/python3.10/dist-packages (from aiohttp->datasets) (1.4.1)\n",
            "Requirement already satisfied: multidict<7.0,>=4.5 in /usr/local/lib/python3.10/dist-packages (from aiohttp->datasets) (6.1.0)\n",
            "Requirement already satisfied: yarl<2.0,>=1.0 in /usr/local/lib/python3.10/dist-packages (from aiohttp->datasets) (1.11.1)\n",
            "Requirement already satisfied: async-timeout<5.0,>=4.0 in /usr/local/lib/python3.10/dist-packages (from aiohttp->datasets) (4.0.3)\n",
            "Requirement already satisfied: typing-extensions>=3.7.4.3 in /usr/local/lib/python3.10/dist-packages (from huggingface-hub>=0.22.0->datasets) (4.12.2)\n",
            "Requirement already satisfied: charset-normalizer<4,>=2 in /usr/local/lib/python3.10/dist-packages (from requests>=2.32.2->datasets) (3.3.2)\n",
            "Requirement already satisfied: idna<4,>=2.5 in /usr/local/lib/python3.10/dist-packages (from requests>=2.32.2->datasets) (3.10)\n",
            "Requirement already satisfied: urllib3<3,>=1.21.1 in /usr/local/lib/python3.10/dist-packages (from requests>=2.32.2->datasets) (2.2.3)\n",
            "Requirement already satisfied: certifi>=2017.4.17 in /usr/local/lib/python3.10/dist-packages (from requests>=2.32.2->datasets) (2024.8.30)\n",
            "Requirement already satisfied: python-dateutil>=2.8.2 in /usr/local/lib/python3.10/dist-packages (from pandas->datasets) (2.8.2)\n",
            "Requirement already satisfied: pytz>=2020.1 in /usr/local/lib/python3.10/dist-packages (from pandas->datasets) (2024.2)\n",
            "Requirement already satisfied: tzdata>=2022.1 in /usr/local/lib/python3.10/dist-packages (from pandas->datasets) (2024.1)\n",
            "Requirement already satisfied: six>=1.5 in /usr/local/lib/python3.10/dist-packages (from python-dateutil>=2.8.2->pandas->datasets) (1.16.0)\n"
          ]
        }
      ],
      "source": [
        "!pip install datasets"
      ]
    },
    {
      "cell_type": "code",
      "source": [
        "pip install sacremoses"
      ],
      "metadata": {
        "colab": {
          "base_uri": "https://localhost:8080/"
        },
        "id": "MTXF-l7x-YGv",
        "outputId": "067bfb54-5768-4040-fffc-31b8cb7a467f"
      },
      "execution_count": 26,
      "outputs": [
        {
          "output_type": "stream",
          "name": "stdout",
          "text": [
            "Requirement already satisfied: sacremoses in /usr/local/lib/python3.10/dist-packages (0.1.1)\n",
            "Requirement already satisfied: regex in /usr/local/lib/python3.10/dist-packages (from sacremoses) (2024.9.11)\n",
            "Requirement already satisfied: click in /usr/local/lib/python3.10/dist-packages (from sacremoses) (8.1.7)\n",
            "Requirement already satisfied: joblib in /usr/local/lib/python3.10/dist-packages (from sacremoses) (1.4.2)\n",
            "Requirement already satisfied: tqdm in /usr/local/lib/python3.10/dist-packages (from sacremoses) (4.66.5)\n"
          ]
        }
      ]
    },
    {
      "cell_type": "code",
      "execution_count": 27,
      "metadata": {
        "id": "HOdhoBVA1zcu",
        "colab": {
          "base_uri": "https://localhost:8080/"
        },
        "outputId": "60e080b3-66e5-42cc-c152-cc3eb15964ab"
      },
      "outputs": [
        {
          "output_type": "stream",
          "name": "stderr",
          "text": [
            "Using cache found in /root/.cache/torch/hub/huggingface_pytorch-transformers_main\n",
            "/usr/local/lib/python3.10/dist-packages/transformers/tokenization_utils_base.py:1601: FutureWarning: `clean_up_tokenization_spaces` was not set. It will be set to `True` by default. This behavior will be depracted in transformers v4.45, and will be then set to `False` by default. For more details check this issue: https://github.com/huggingface/transformers/issues/31884\n",
            "  warnings.warn(\n"
          ]
        }
      ],
      "source": [
        "import torch\n",
        "from torch.nn.utils.rnn import pad_sequence\n",
        "from datasets import load_dataset\n",
        "from torch.utils.data import DataLoader\n",
        "from transformers import BertTokenizerFast\n",
        "from tokenizers import (\n",
        "    decoders,\n",
        "    models,\n",
        "    normalizers,\n",
        "    pre_tokenizers,\n",
        "    processors,\n",
        "    trainers,\n",
        "    Tokenizer,\n",
        ")\n",
        "\n",
        "\n",
        "ds = load_dataset(\"stanfordnlp/imdb\")\n",
        "tokenizer = torch.hub.load('huggingface/pytorch-transformers', 'tokenizer', 'bert-base-uncased')\n",
        "\n",
        "    # 학습 로직\n",
        "\n",
        "\n",
        "from transformers import BertTokenizer\n",
        "\n",
        "tokenizer = BertTokenizer.from_pretrained('bert-base-uncased')\n",
        "max_len = 400  # 최대 시퀀스 길이 설정\n",
        "\n",
        "from torch.nn.utils.rnn import pad_sequence\n",
        "import torch\n",
        "\n",
        "from torch.nn.utils.rnn import pad_sequence\n",
        "import torch\n",
        "\n",
        "def collate_fn(batch):\n",
        "    texts, labels = [], []\n",
        "    max_len = 400  # 최대 길이 설정\n",
        "\n",
        "    for item in batch:\n",
        "        encoded_text = tokenizer.encode_plus(\n",
        "            item['text'],\n",
        "            add_special_tokens=True,\n",
        "            return_tensors='pt',\n",
        "            padding='max_length',  # 패딩 적용\n",
        "            truncation=True,  # 자르기 적용\n",
        "            max_length=max_len  # 최대 길이 설정\n",
        "        )\n",
        "        input_ids = encoded_text['input_ids'].squeeze(0)\n",
        "\n",
        "        # 입력은 전체 시퀀스를 사용하고, 레이블은 다음 토큰을 사용합니다.\n",
        "        texts.append(input_ids[:-1])  # 마지막 토큰을 제외한 나머지를 입력으로 사용\n",
        "        labels.append(input_ids[1:])  # 첫 번째 토큰을 제외한 나머지를 레이블로 사용\n",
        "\n",
        "    if not texts or not labels:  # 입력이 비어 있는 경우 기본 값을 추가\n",
        "        default_value = torch.tensor([tokenizer.pad_token_id], dtype=torch.long)\n",
        "        texts.append(default_value)\n",
        "        labels.append(torch.tensor([-100], dtype=torch.long))  # 손실 계산에서 무시될 값\n",
        "\n",
        "    # 텐서로 변환하고 배치 차원에서 패딩 적용\n",
        "    texts = pad_sequence(texts, batch_first=True, padding_value=tokenizer.pad_token_id)\n",
        "    labels = pad_sequence(labels, batch_first=True, padding_value=-100)\n",
        "\n",
        "    return texts, labels\n",
        "\n",
        "\n",
        "\n",
        "\n",
        "\n",
        "\n"
      ]
    },
    {
      "cell_type": "code",
      "source": [
        "train_loader = DataLoader(\n",
        "    ds['train'], batch_size=32, shuffle=True, collate_fn=collate_fn\n",
        ")\n",
        "test_loader = DataLoader(\n",
        "    ds['test'], batch_size=32, shuffle=False, collate_fn=collate_fn\n",
        "\n",
        ")"
      ],
      "metadata": {
        "id": "M2f43DrjhBI9"
      },
      "execution_count": 30,
      "outputs": []
    },
    {
      "cell_type": "code",
      "source": [
        "from torch import nn\n",
        "from math import sqrt\n",
        "\n",
        "\n",
        "class SelfAttention(nn.Module):\n",
        "    def __init__(self, input_dim, d_model):\n",
        "        super().__init__()\n",
        "\n",
        "        self.input_dim = input_dim\n",
        "        self.d_model = d_model\n",
        "\n",
        "        self.wq = nn.Linear(input_dim, d_model)\n",
        "        self.wk = nn.Linear(input_dim, d_model)\n",
        "        self.wv = nn.Linear(input_dim, d_model)\n",
        "        self.dense = nn.Linear(d_model, d_model)\n",
        "\n",
        "        self.softmax = nn.Softmax(dim=-1)\n",
        "\n",
        "    def forward(self, x, mask):\n",
        "        q, k, v = self.wq(x), self.wk(x), self.wv(x)\n",
        "        score = torch.matmul(\n",
        "            q, k.transpose(-1, -2)\n",
        "        )  # (B, S, D) * (B, D, S) = (B, S, S)\n",
        "        score = score / sqrt(self.d_model)\n",
        "\n",
        "        if mask is not None:\n",
        "            score = score + (mask * -1e9)\n",
        "\n",
        "        score = self.softmax(score)\n",
        "        result = torch.matmul(score, v)\n",
        "        result = self.dense(result)\n",
        "\n",
        "        return result"
      ],
      "metadata": {
        "id": "6fFInKmfWf5b"
      },
      "execution_count": 31,
      "outputs": []
    },
    {
      "cell_type": "code",
      "execution_count": 53,
      "metadata": {
        "id": "MBlMVMZcRAxv"
      },
      "outputs": [],
      "source": [
        "class MultiHeadAttention(nn.Module):\n",
        "\n",
        "    def __init__(\n",
        "        self,\n",
        "        input_dim,\n",
        "        d_model,\n",
        "        n_heads,\n",
        "    ):\n",
        "        super().__init__()\n",
        "\n",
        "        self.input_dim = input_dim\n",
        "        self.d_model = d_model\n",
        "        self.n_heads = n_heads\n",
        "\n",
        "        assert (\n",
        "            d_model % n_heads == 0\n",
        "        ), f\"d_model ({d_model}) must be a multiple of n_heads ({n_heads})\"\n",
        "\n",
        "        self.d_prime = self.d_model // self.n_heads\n",
        "\n",
        "        self.wqkvs = nn.ModuleList(\n",
        "            [\n",
        "                nn.ModuleDict(\n",
        "                    {\n",
        "                        \"wq\": nn.Linear(input_dim, self.d_prime),\n",
        "                        \"wk\": nn.Linear(input_dim, self.d_prime),\n",
        "                        \"wv\": nn.Linear(input_dim, self.d_prime),\n",
        "                    }\n",
        "                )\n",
        "                for _ in range(self.n_heads)\n",
        "            ]\n",
        "        )\n",
        "\n",
        "        self.dense = nn.Linear(d_model, d_model)\n",
        "\n",
        "        self.softmax = nn.Softmax(dim=-1)\n",
        "\n",
        "    def forward(self, x, mask):\n",
        "        results = []\n",
        "        for wqkv in self.wqkvs:\n",
        "            q, k, v = wqkv[\"wq\"](x), wqkv[\"wk\"](x), wqkv[\"wv\"](x)\n",
        "            score = torch.matmul(\n",
        "                q,\n",
        "                k.transpose(-1, -2),\n",
        "            )  # (B, S, D') * (B, D', S) = (B, S, S)\n",
        "            score = score / sqrt(self.d_prime)\n",
        "\n",
        "            if mask is not None:\n",
        "                score = score + (mask * -1e9)\n",
        "\n",
        "            score = self.softmax(score)\n",
        "            result = torch.matmul(\n",
        "                score,  # (B, S, S)\n",
        "                v,  # (B, S, D')\n",
        "            )  # (B, S, D')\n",
        "            results.append(result)\n",
        "        results = torch.cat(results, dim=-1)  # (B, S, D' * n_heads)\n",
        "        output = self.dense(results)\n",
        "        return output"
      ]
    },
    {
      "cell_type": "code",
      "source": [
        "class TransformerLayer(nn.Module):\n",
        "\n",
        "    def __init__(self, input_dim, d_model, dff, n_heads, dropout_prob=0.3):\n",
        "        super().__init__()\n",
        "\n",
        "        self.input_dim = input_dim\n",
        "        self.d_model = d_model\n",
        "        self.dff = dff\n",
        "\n",
        "        self.mha = MultiHeadAttention(input_dim, d_model, n_heads)\n",
        "        self.ffn = nn.Sequential(\n",
        "            nn.Linear(d_model, dff), nn.ReLU(), nn.Linear(dff, d_model)\n",
        "        )\n",
        "        self.dropout = nn.Dropout(dropout_prob)\n",
        "        self.layer_norm_mha = nn.LayerNorm(normalized_shape=d_model)\n",
        "        self.layer_norm_ffn = nn.LayerNorm(normalized_shape=d_model)\n",
        "\n",
        "    def forward(self, x, mask):\n",
        "        x1 = self.mha(x, mask)\n",
        "        x1 = self.dropout(x1)\n",
        "        x1 = self.layer_norm_mha(x + x1)\n",
        "\n",
        "        x2 = self.ffn(x1)\n",
        "        x2 = self.dropout(x2)\n",
        "        x2 = self.layer_norm_ffn(x1 + x2)\n",
        "\n",
        "        return x2\n"
      ],
      "metadata": {
        "id": "3jXWKAKOQjn4"
      },
      "execution_count": 54,
      "outputs": []
    },
    {
      "cell_type": "code",
      "execution_count": 55,
      "metadata": {
        "colab": {
          "base_uri": "https://localhost:8080/"
        },
        "id": "Uf_jMQWDUR79",
        "outputId": "ccc4e3f6-e052-4947-8a4d-7e612c8acb60"
      },
      "outputs": [
        {
          "output_type": "stream",
          "name": "stdout",
          "text": [
            "torch.Size([1, 400, 256])\n"
          ]
        }
      ],
      "source": [
        "import numpy as np\n",
        "\n",
        "\n",
        "def get_angles(pos, i, d_model):\n",
        "    angle_rates = 1 / np.power(10000, (2 * (i // 2)) / np.float32(d_model))\n",
        "    return pos * angle_rates\n",
        "\n",
        "def positional_encoding(position, d_model):\n",
        "    angle_rads = get_angles(np.arange(position)[:, None], np.arange(d_model)[None, :], d_model)\n",
        "    angle_rads[:, 0::2] = np.sin(angle_rads[:, 0::2])\n",
        "    angle_rads[:, 1::2] = np.cos(angle_rads[:, 1::2])\n",
        "    pos_encoding = angle_rads[None, ...]\n",
        "\n",
        "    return torch.FloatTensor(pos_encoding)\n",
        "\n",
        "\n",
        "max_len = 400\n",
        "print(positional_encoding(max_len, 256).shape)"
      ]
    },
    {
      "cell_type": "code",
      "execution_count": 56,
      "metadata": {
        "id": "8MaiCGh8TsDH"
      },
      "outputs": [],
      "source": [
        "import torch\n",
        "import torch.nn as nn\n",
        "\n",
        "class TextClassifier(nn.Module):\n",
        "    def __init__(self, vocab_size, d_model, n_layers, dff, n_heads, max_len):\n",
        "        super().__init__()\n",
        "        self.vocab_size = vocab_size\n",
        "        self.d_model = d_model\n",
        "        self.n_layers = n_layers\n",
        "        self.dff = dff\n",
        "        self.n_heads = n_heads\n",
        "\n",
        "        self.embedding = nn.Embedding(vocab_size, d_model)\n",
        "        self.pos_encoding = nn.parameter.Parameter(\n",
        "            positional_encoding(max_len, d_model), requires_grad=False\n",
        "        )\n",
        "        self.layers = nn.ModuleList(\n",
        "            [TransformerLayer(d_model, d_model, dff, n_heads) for _ in range(n_layers)]\n",
        "        )\n",
        "        self.classification = nn.Linear(d_model, vocab_size)\n",
        "\n",
        "    def forward(self, x):\n",
        "        mask = x == tokenizer.pad_token_id\n",
        "        mask = mask[:, None, :]\n",
        "        seq_len = x.shape[1]\n",
        "\n",
        "        x = self.embedding(x)\n",
        "        x = x * sqrt(self.d_model)\n",
        "        x = x + self.pos_encoding[:, :seq_len]\n",
        "\n",
        "        for layer in self.layers:\n",
        "            x = layer(x, mask)\n",
        "\n",
        "        x = self.classification(x)  # 각 위치에서의 출력\n",
        "        return x  # 로짓 반환, softmax는 손실 계산 시 적용\n",
        "\n",
        "# 모델 초기화 및 사용 예\n",
        "model = TextClassifier(\n",
        "    vocab_size=len(tokenizer),\n",
        "    d_model=512,\n",
        "    n_layers=6,\n",
        "    dff=2048,\n",
        "    n_heads=8,\n",
        "    max_len=512\n",
        ")\n"
      ]
    },
    {
      "cell_type": "code",
      "execution_count": 57,
      "metadata": {
        "id": "YHVVsWBPQmnv"
      },
      "outputs": [],
      "source": [
        "from torch.optim import Adam\n",
        "\n",
        "lr = 0.001\n",
        "model = model.to('cuda')\n",
        "loss_fn = nn.CrossEntropyLoss()\n",
        "\n",
        "optimizer = Adam(model.parameters(), lr=lr)"
      ]
    },
    {
      "cell_type": "code",
      "execution_count": 58,
      "metadata": {
        "id": "r88BALxO1zc1"
      },
      "outputs": [],
      "source": [
        "def accuracy(model, dataloader):\n",
        "    model.eval()\n",
        "    total_correct = 0\n",
        "    total_samples = 0\n",
        "\n",
        "    with torch.no_grad():\n",
        "        for inputs, labels in dataloader:\n",
        "            inputs, labels = inputs.to('cuda'), labels.to('cuda')\n",
        "\n",
        "            outputs = model(inputs)  # 모델의 출력 크기: (batch_size, seq_len, vocab_size)\n",
        "            predicted = outputs.argmax(dim=2)  # 가장 확률이 높은 단어의 인덱스를 추출\n",
        "\n",
        "            # 예측과 레이블을 평면화(flatten)하여 전체 정확도를 계산\n",
        "            total_correct += (predicted == labels).sum().item()\n",
        "            total_samples += labels.numel()\n",
        "\n",
        "    acc = total_correct / total_samples if total_samples > 0 else 0\n",
        "    return acc\n",
        "\n"
      ]
    },
    {
      "cell_type": "code",
      "execution_count": null,
      "metadata": {
        "colab": {
          "base_uri": "https://localhost:8080/"
        },
        "id": "al_b56TYRILq",
        "outputId": "0e80ca5e-7a31-4b1d-9cc2-fbd6def4beae"
      },
      "outputs": [
        {
          "output_type": "stream",
          "name": "stdout",
          "text": [
            "Epoch 1 | Total Loss: 3828.3346264362335\n",
            "=========> Train acc: 0.365 | Test acc: 0.373\n",
            "Epoch 2 | Total Loss: 3823.7562959194183\n",
            "=========> Train acc: 0.365 | Test acc: 0.373\n",
            "Epoch 3 | Total Loss: 3775.4418153762817\n",
            "=========> Train acc: 0.365 | Test acc: 0.373\n",
            "Epoch 4 | Total Loss: 3767.5583319664\n",
            "=========> Train acc: 0.365 | Test acc: 0.373\n"
          ]
        }
      ],
      "source": [
        "n_epochs = 50\n",
        "for epoch in range(n_epochs):\n",
        "    total_loss = 0.\n",
        "    model.train()\n",
        "\n",
        "    for inputs, labels in train_loader:\n",
        "        inputs, labels = inputs.to('cuda'), labels.to('cuda')\n",
        "\n",
        "        optimizer.zero_grad()\n",
        "        preds = model(inputs)  # 예상 크기: (batch_size, seq_len, vocab_size)\n",
        "\n",
        "        # 손실 계산 및 역전파\n",
        "        loss = loss_fn(preds.transpose(1, 2), labels)  # labels 크기: (batch_size, seq_len)\n",
        "        loss.backward()\n",
        "        optimizer.step()\n",
        "        total_loss += loss.item()\n",
        "\n",
        "    print(f\"Epoch {epoch+1} | Total Loss: {total_loss}\")\n",
        "\n",
        "    with torch.no_grad():\n",
        "        model.eval()\n",
        "        train_acc = accuracy(model, train_loader)\n",
        "        test_acc = accuracy(model, test_loader)\n",
        "        print(f\"=========> Train acc: {train_acc:.3f} | Test acc: {test_acc:.3f}\")\n",
        "\n"
      ]
    }
  ],
  "metadata": {
    "accelerator": "GPU",
    "colab": {
      "gpuType": "A100",
      "provenance": [],
      "machine_shape": "hm"
    },
    "kernelspec": {
      "display_name": "Python 3",
      "name": "python3"
    },
    "language_info": {
      "codemirror_mode": {
        "name": "ipython",
        "version": 3
      },
      "file_extension": ".py",
      "mimetype": "text/x-python",
      "name": "python",
      "nbconvert_exporter": "python",
      "pygments_lexer": "ipython3",
      "version": "3.10.14"
    }
  },
  "nbformat": 4,
  "nbformat_minor": 0
}